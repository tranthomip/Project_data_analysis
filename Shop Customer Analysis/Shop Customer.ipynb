{
 "cells": [
  {
   "cell_type": "markdown",
   "id": "fba510d3",
   "metadata": {},
   "source": [
    "### Load Packages"
   ]
  },
  {
   "cell_type": "code",
   "execution_count": 36,
   "id": "d9eb6de8",
   "metadata": {},
   "outputs": [],
   "source": [
    "import numpy as np\n",
    "import pandas as pd\n",
    "import seaborn as sns\n",
    "import matplotlib.pyplot as plt\n",
    "import warnings\n",
    "warnings.filterwarnings('ignore')"
   ]
  },
  {
   "cell_type": "markdown",
   "id": "2d6cce3f",
   "metadata": {},
   "source": [
    "### Dataset Overview"
   ]
  },
  {
   "cell_type": "code",
   "execution_count": 3,
   "id": "a3dbae2a",
   "metadata": {},
   "outputs": [
    {
     "data": {
      "text/html": [
       "<div>\n",
       "<style scoped>\n",
       "    .dataframe tbody tr th:only-of-type {\n",
       "        vertical-align: middle;\n",
       "    }\n",
       "\n",
       "    .dataframe tbody tr th {\n",
       "        vertical-align: top;\n",
       "    }\n",
       "\n",
       "    .dataframe thead th {\n",
       "        text-align: right;\n",
       "    }\n",
       "</style>\n",
       "<table border=\"1\" class=\"dataframe\">\n",
       "  <thead>\n",
       "    <tr style=\"text-align: right;\">\n",
       "      <th></th>\n",
       "      <th>CustomerID</th>\n",
       "      <th>Gender</th>\n",
       "      <th>Age</th>\n",
       "      <th>Annual Income ($)</th>\n",
       "      <th>Spending Score (1-100)</th>\n",
       "      <th>Profession</th>\n",
       "      <th>Work Experience</th>\n",
       "      <th>Family Size</th>\n",
       "    </tr>\n",
       "  </thead>\n",
       "  <tbody>\n",
       "    <tr>\n",
       "      <th>0</th>\n",
       "      <td>1</td>\n",
       "      <td>Male</td>\n",
       "      <td>19</td>\n",
       "      <td>15000</td>\n",
       "      <td>39</td>\n",
       "      <td>Healthcare</td>\n",
       "      <td>1</td>\n",
       "      <td>4</td>\n",
       "    </tr>\n",
       "    <tr>\n",
       "      <th>1</th>\n",
       "      <td>2</td>\n",
       "      <td>Male</td>\n",
       "      <td>21</td>\n",
       "      <td>35000</td>\n",
       "      <td>81</td>\n",
       "      <td>Engineer</td>\n",
       "      <td>3</td>\n",
       "      <td>3</td>\n",
       "    </tr>\n",
       "    <tr>\n",
       "      <th>2</th>\n",
       "      <td>3</td>\n",
       "      <td>Female</td>\n",
       "      <td>20</td>\n",
       "      <td>86000</td>\n",
       "      <td>6</td>\n",
       "      <td>Engineer</td>\n",
       "      <td>1</td>\n",
       "      <td>1</td>\n",
       "    </tr>\n",
       "    <tr>\n",
       "      <th>3</th>\n",
       "      <td>4</td>\n",
       "      <td>Female</td>\n",
       "      <td>23</td>\n",
       "      <td>59000</td>\n",
       "      <td>77</td>\n",
       "      <td>Lawyer</td>\n",
       "      <td>0</td>\n",
       "      <td>2</td>\n",
       "    </tr>\n",
       "    <tr>\n",
       "      <th>4</th>\n",
       "      <td>5</td>\n",
       "      <td>Female</td>\n",
       "      <td>31</td>\n",
       "      <td>38000</td>\n",
       "      <td>40</td>\n",
       "      <td>Entertainment</td>\n",
       "      <td>2</td>\n",
       "      <td>6</td>\n",
       "    </tr>\n",
       "  </tbody>\n",
       "</table>\n",
       "</div>"
      ],
      "text/plain": [
       "   CustomerID  Gender  Age  Annual Income ($)  Spending Score (1-100)  \\\n",
       "0           1    Male   19              15000                      39   \n",
       "1           2    Male   21              35000                      81   \n",
       "2           3  Female   20              86000                       6   \n",
       "3           4  Female   23              59000                      77   \n",
       "4           5  Female   31              38000                      40   \n",
       "\n",
       "      Profession  Work Experience  Family Size  \n",
       "0     Healthcare                1            4  \n",
       "1       Engineer                3            3  \n",
       "2       Engineer                1            1  \n",
       "3         Lawyer                0            2  \n",
       "4  Entertainment                2            6  "
      ]
     },
     "execution_count": 3,
     "metadata": {},
     "output_type": "execute_result"
    }
   ],
   "source": [
    "df = pd.read_csv(\"customers.csv\")\n",
    "df.head()"
   ]
  },
  {
   "cell_type": "code",
   "execution_count": 4,
   "id": "2bf92164",
   "metadata": {},
   "outputs": [
    {
     "name": "stdout",
     "output_type": "stream",
     "text": [
      "<class 'pandas.core.frame.DataFrame'>\n",
      "RangeIndex: 2000 entries, 0 to 1999\n",
      "Data columns (total 8 columns):\n",
      " #   Column                  Non-Null Count  Dtype \n",
      "---  ------                  --------------  ----- \n",
      " 0   CustomerID              2000 non-null   int64 \n",
      " 1   Gender                  2000 non-null   object\n",
      " 2   Age                     2000 non-null   int64 \n",
      " 3   Annual Income ($)       2000 non-null   int64 \n",
      " 4   Spending Score (1-100)  2000 non-null   int64 \n",
      " 5   Profession              1965 non-null   object\n",
      " 6   Work Experience         2000 non-null   int64 \n",
      " 7   Family Size             2000 non-null   int64 \n",
      "dtypes: int64(6), object(2)\n",
      "memory usage: 125.1+ KB\n"
     ]
    }
   ],
   "source": [
    "df.info()"
   ]
  },
  {
   "cell_type": "markdown",
   "id": "8bc298a6",
   "metadata": {},
   "source": [
    "**Bộ dữ liệu bao gồm 2000 dòng, 8 cột, trong đó:**\n",
    "\n",
    "* CustomerID: ID của khách hàng\n",
    "* Gender: giới tính của khách hàng\n",
    "* Age: tuổi của khách hàng\n",
    "* Annual Income: tổng thu nhập hàng năm của khách hàng\n",
    "* Spending Score (1-100): số điểm tích lũy của khách hàng\n",
    "* Profession: nghề nghiệp hiện tại của khách hàng\n",
    "* Work Experience: số năm kinh nghiệm\n",
    "* Family Size: số thành viên trong một gia đình"
   ]
  },
  {
   "cell_type": "markdown",
   "id": "fedaf6b6",
   "metadata": {},
   "source": [
    "### Data Cleaning"
   ]
  },
  {
   "cell_type": "markdown",
   "id": "7bfc240d",
   "metadata": {},
   "source": [
    "**Kiểm tra giá trị null**"
   ]
  },
  {
   "cell_type": "code",
   "execution_count": 5,
   "id": "bf1234cb",
   "metadata": {},
   "outputs": [
    {
     "data": {
      "text/plain": [
       "CustomerID                 0\n",
       "Gender                     0\n",
       "Age                        0\n",
       "Annual Income ($)          0\n",
       "Spending Score (1-100)     0\n",
       "Profession                35\n",
       "Work Experience            0\n",
       "Family Size                0\n",
       "dtype: int64"
      ]
     },
     "execution_count": 5,
     "metadata": {},
     "output_type": "execute_result"
    }
   ],
   "source": [
    "df.isnull().sum()"
   ]
  },
  {
   "cell_type": "markdown",
   "id": "a27eee5f",
   "metadata": {},
   "source": [
    "Có 35 giá trị null trong cột Profession"
   ]
  },
  {
   "cell_type": "code",
   "execution_count": 8,
   "id": "812d78e5",
   "metadata": {},
   "outputs": [
    {
     "data": {
      "text/plain": [
       "array(['Healthcare', 'Engineer', 'Lawyer', 'Entertainment', 'Artist',\n",
       "       'Executive', 'Doctor', 'Homemaker', 'Marketing', nan], dtype=object)"
      ]
     },
     "execution_count": 8,
     "metadata": {},
     "output_type": "execute_result"
    }
   ],
   "source": [
    "df[\"Profession\"].unique()"
   ]
  },
  {
   "cell_type": "markdown",
   "id": "c903b170",
   "metadata": {},
   "source": [
    "Để điền vào những ô còn thiếu giá trị trong cột **Profession**, ta sẽ điền giá trị phổ biến nhất trong cột **Profession**"
   ]
  },
  {
   "cell_type": "code",
   "execution_count": 10,
   "id": "6e971bd8",
   "metadata": {},
   "outputs": [
    {
     "data": {
      "text/plain": [
       "Artist           612\n",
       "Healthcare       339\n",
       "Entertainment    234\n",
       "Engineer         179\n",
       "Doctor           161\n",
       "Executive        153\n",
       "Lawyer           142\n",
       "Marketing         85\n",
       "Homemaker         60\n",
       "Name: Profession, dtype: int64"
      ]
     },
     "execution_count": 10,
     "metadata": {},
     "output_type": "execute_result"
    }
   ],
   "source": [
    "df[\"Profession\"].value_counts()"
   ]
  },
  {
   "cell_type": "markdown",
   "id": "2afd373d",
   "metadata": {},
   "source": [
    "Artist chiểm trong số nhiều nhất, vì vậy ta sẽ điền giá trị null bằng giá trị Artist"
   ]
  },
  {
   "cell_type": "code",
   "execution_count": 11,
   "id": "db4e3514",
   "metadata": {},
   "outputs": [],
   "source": [
    "df[\"Profession\"].fillna(\"Artist\", inplace = True)"
   ]
  },
  {
   "cell_type": "code",
   "execution_count": 12,
   "id": "824395f3",
   "metadata": {},
   "outputs": [
    {
     "data": {
      "text/plain": [
       "CustomerID                0\n",
       "Gender                    0\n",
       "Age                       0\n",
       "Annual Income ($)         0\n",
       "Spending Score (1-100)    0\n",
       "Profession                0\n",
       "Work Experience           0\n",
       "Family Size               0\n",
       "dtype: int64"
      ]
     },
     "execution_count": 12,
     "metadata": {},
     "output_type": "execute_result"
    }
   ],
   "source": [
    "df.isnull().sum()"
   ]
  },
  {
   "cell_type": "markdown",
   "id": "393fb558",
   "metadata": {},
   "source": [
    "**Kiểm tra giá trị trùng lặp**"
   ]
  },
  {
   "cell_type": "code",
   "execution_count": 14,
   "id": "9e5f504b",
   "metadata": {},
   "outputs": [
    {
     "data": {
      "text/plain": [
       "False"
      ]
     },
     "execution_count": 14,
     "metadata": {},
     "output_type": "execute_result"
    }
   ],
   "source": [
    "df.duplicated().any()"
   ]
  },
  {
   "cell_type": "markdown",
   "id": "af7dfd16",
   "metadata": {},
   "source": [
    "Bộ dữ liệu không chứa giá trị trùng lặp"
   ]
  },
  {
   "cell_type": "code",
   "execution_count": 15,
   "id": "1190ab11",
   "metadata": {},
   "outputs": [
    {
     "data": {
      "text/html": [
       "<div>\n",
       "<style scoped>\n",
       "    .dataframe tbody tr th:only-of-type {\n",
       "        vertical-align: middle;\n",
       "    }\n",
       "\n",
       "    .dataframe tbody tr th {\n",
       "        vertical-align: top;\n",
       "    }\n",
       "\n",
       "    .dataframe thead th {\n",
       "        text-align: right;\n",
       "    }\n",
       "</style>\n",
       "<table border=\"1\" class=\"dataframe\">\n",
       "  <thead>\n",
       "    <tr style=\"text-align: right;\">\n",
       "      <th></th>\n",
       "      <th>CustomerID</th>\n",
       "      <th>Age</th>\n",
       "      <th>Annual Income ($)</th>\n",
       "      <th>Spending Score (1-100)</th>\n",
       "      <th>Work Experience</th>\n",
       "      <th>Family Size</th>\n",
       "    </tr>\n",
       "  </thead>\n",
       "  <tbody>\n",
       "    <tr>\n",
       "      <th>count</th>\n",
       "      <td>2000.000000</td>\n",
       "      <td>2000.000000</td>\n",
       "      <td>2000.000000</td>\n",
       "      <td>2000.000000</td>\n",
       "      <td>2000.000000</td>\n",
       "      <td>2000.000000</td>\n",
       "    </tr>\n",
       "    <tr>\n",
       "      <th>mean</th>\n",
       "      <td>1000.500000</td>\n",
       "      <td>48.960000</td>\n",
       "      <td>110731.821500</td>\n",
       "      <td>50.962500</td>\n",
       "      <td>4.102500</td>\n",
       "      <td>3.768500</td>\n",
       "    </tr>\n",
       "    <tr>\n",
       "      <th>std</th>\n",
       "      <td>577.494589</td>\n",
       "      <td>28.429747</td>\n",
       "      <td>45739.536688</td>\n",
       "      <td>27.934661</td>\n",
       "      <td>3.922204</td>\n",
       "      <td>1.970749</td>\n",
       "    </tr>\n",
       "    <tr>\n",
       "      <th>min</th>\n",
       "      <td>1.000000</td>\n",
       "      <td>0.000000</td>\n",
       "      <td>0.000000</td>\n",
       "      <td>0.000000</td>\n",
       "      <td>0.000000</td>\n",
       "      <td>1.000000</td>\n",
       "    </tr>\n",
       "    <tr>\n",
       "      <th>25%</th>\n",
       "      <td>500.750000</td>\n",
       "      <td>25.000000</td>\n",
       "      <td>74572.000000</td>\n",
       "      <td>28.000000</td>\n",
       "      <td>1.000000</td>\n",
       "      <td>2.000000</td>\n",
       "    </tr>\n",
       "    <tr>\n",
       "      <th>50%</th>\n",
       "      <td>1000.500000</td>\n",
       "      <td>48.000000</td>\n",
       "      <td>110045.000000</td>\n",
       "      <td>50.000000</td>\n",
       "      <td>3.000000</td>\n",
       "      <td>4.000000</td>\n",
       "    </tr>\n",
       "    <tr>\n",
       "      <th>75%</th>\n",
       "      <td>1500.250000</td>\n",
       "      <td>73.000000</td>\n",
       "      <td>149092.750000</td>\n",
       "      <td>75.000000</td>\n",
       "      <td>7.000000</td>\n",
       "      <td>5.000000</td>\n",
       "    </tr>\n",
       "    <tr>\n",
       "      <th>max</th>\n",
       "      <td>2000.000000</td>\n",
       "      <td>99.000000</td>\n",
       "      <td>189974.000000</td>\n",
       "      <td>100.000000</td>\n",
       "      <td>17.000000</td>\n",
       "      <td>9.000000</td>\n",
       "    </tr>\n",
       "  </tbody>\n",
       "</table>\n",
       "</div>"
      ],
      "text/plain": [
       "        CustomerID          Age  Annual Income ($)  Spending Score (1-100)  \\\n",
       "count  2000.000000  2000.000000        2000.000000             2000.000000   \n",
       "mean   1000.500000    48.960000      110731.821500               50.962500   \n",
       "std     577.494589    28.429747       45739.536688               27.934661   \n",
       "min       1.000000     0.000000           0.000000                0.000000   \n",
       "25%     500.750000    25.000000       74572.000000               28.000000   \n",
       "50%    1000.500000    48.000000      110045.000000               50.000000   \n",
       "75%    1500.250000    73.000000      149092.750000               75.000000   \n",
       "max    2000.000000    99.000000      189974.000000              100.000000   \n",
       "\n",
       "       Work Experience  Family Size  \n",
       "count      2000.000000  2000.000000  \n",
       "mean          4.102500     3.768500  \n",
       "std           3.922204     1.970749  \n",
       "min           0.000000     1.000000  \n",
       "25%           1.000000     2.000000  \n",
       "50%           3.000000     4.000000  \n",
       "75%           7.000000     5.000000  \n",
       "max          17.000000     9.000000  "
      ]
     },
     "execution_count": 15,
     "metadata": {},
     "output_type": "execute_result"
    }
   ],
   "source": [
    "df.describe()"
   ]
  },
  {
   "cell_type": "markdown",
   "id": "181e208c",
   "metadata": {},
   "source": [
    "### EDA"
   ]
  },
  {
   "cell_type": "code",
   "execution_count": 43,
   "id": "bb25009f",
   "metadata": {},
   "outputs": [
    {
     "data": {
      "text/plain": [
       "['Age',\n",
       " 'Annual Income ($)',\n",
       " 'Spending Score (1-100)',\n",
       " 'Work Experience',\n",
       " 'Family Size']"
      ]
     },
     "execution_count": 43,
     "metadata": {},
     "output_type": "execute_result"
    }
   ],
   "source": [
    "numeric_columns = df[[\"Age\", \"Annual Income ($)\",\"Spending Score (1-100)\",\"Work Experience\",\"Family Size\"]].columns.to_list()\n",
    "numeric_columns"
   ]
  },
  {
   "cell_type": "code",
   "execution_count": 49,
   "id": "75eaac91",
   "metadata": {},
   "outputs": [
    {
     "data": {
      "image/png": "[encoded data removed]",
      "text/plain": [
       "<Figure size 1440x720 with 5 Axes>"
      ]
     },
     "metadata": {
      "needs_background": "light"
     },
     "output_type": "display_data"
    }
   ],
   "source": [
    "plt.figure(figsize = (20, 10));\n",
    "number = 1\n",
    "for i in numeric_columns:\n",
    "    plt.subplot(2, 3, number)\n",
    "    number += 1\n",
    "    sns.distplot(df[i])\n",
    "plt.show()"
   ]
  },
  {
   "cell_type": "markdown",
   "id": "b22a2e26",
   "metadata": {},
   "source": [
    "Hầu hết các biến đều có phân phối chuẩn, trừ biến Work Experience bị lệch phải."
   ]
  },
  {
   "cell_type": "code",
   "execution_count": 32,
   "id": "9d2b8e17",
   "metadata": {},
   "outputs": [
    {
     "data": {
      "image/png": "[encoded data removed]",
      "text/plain": [
       "<Figure size 1080x720 with 1 Axes>"
      ]
     },
     "metadata": {
      "needs_background": "light"
     },
     "output_type": "display_data"
    }
   ],
   "source": [
    "plt.figure(figsize = (15,10))\n",
    "sns.countplot(x = df[\"Family Size\"], data = df, order=  df[\"Family Size\"].value_counts().index)\n",
    "plt.show()"
   ]
  },
  {
   "cell_type": "markdown",
   "id": "a665e8c4",
   "metadata": {},
   "source": [
    "Gia đình có hai thành viên chiếm tỷ trọng lớn nhất với hơn 350 khách hàng gia đình có hai thành viên. Những khách hàng gia đình có hai thành viên rất có thể là vợ chồng mới cưới"
   ]
  },
  {
   "cell_type": "code",
   "execution_count": 62,
   "id": "c473f548",
   "metadata": {},
   "outputs": [
    {
     "data": {
      "image/png": "[encoded data removed]",
      "text/plain": [
       "<Figure size 1080x576 with 2 Axes>"
      ]
     },
     "metadata": {
      "needs_background": "light"
     },
     "output_type": "display_data"
    }
   ],
   "source": [
    "fig, (ax1, ax2) = plt.subplots(1,2, figsize = (15,8))\n",
    "sns.countplot(x = \"Gender\", data = df, ax = ax1)\n",
    "ax1.set_ylabel(\"\")\n",
    "sns.countplot(x = \"Profession\", data = df, ax = ax2, order = df[\"Profession\"].value_counts().index)\n",
    "ax2.set_ylabel(\"\")\n",
    "plt.xticks(rotation = 45)\n",
    "plt.show()"
   ]
  },
  {
   "cell_type": "markdown",
   "id": "748d8f3a",
   "metadata": {},
   "source": [
    "Nhìn vào đồ thị, ta thấy:\n",
    "\n",
    "* Nữ giới mua sắm tại cửa hàng nhiều hơn nam giới\n",
    "\n",
    "* Khách hàng làm công việc liên quan đến nghệ thuật mua hàng nhiều nhất, theo sau đó là ngành nghề liên quan đến sức khỏe, giải trí. Ở chiều ngược lại, những người làm công việc nội trợ mua hàng ít nhất"
   ]
  },
  {
   "cell_type": "code",
   "execution_count": 64,
   "id": "38788b7b",
   "metadata": {},
   "outputs": [
    {
     "data": {
      "image/png": "[encoded data removed]",
      "text/plain": [
       "<Figure size 1080x720 with 1 Axes>"
      ]
     },
     "metadata": {
      "needs_background": "light"
     },
     "output_type": "display_data"
    }
   ],
   "source": [
    "plt.figure(figsize = (15,10))\n",
    "sns.countplot(x = \"Work Experience\", data = df)\n",
    "plt.ylabel(\"Number of working years\")\n",
    "plt.show()"
   ]
  },
  {
   "cell_type": "markdown",
   "id": "94c5207c",
   "metadata": {},
   "source": [
    "Những khách hàng có 0-1 năm kinh nghiệm chiếm phần lớn, trong khi đó chỉ có một lượng nhỏ khách hàng có trên 10 năm kinh nghiệm. Ở đây có thể có hai trường hợp:\n",
    "\n",
    "* Một là sản phẩm của cửa hàng phù hợp với thị hiếu của các bạn trẻ\n",
    "\n",
    "* Hai là giá cả của sản phẩm phải chăng, phù hợp cho những bạn trẻ chưa dư dả về mặt tài chính"
   ]
  },
  {
   "cell_type": "markdown",
   "id": "fcf531da",
   "metadata": {},
   "source": [
    "### Conclude"
   ]
  },
  {
   "cell_type": "markdown",
   "id": "1c66cd3c",
   "metadata": {},
   "source": [
    "* Phần lớn khách hàng gia đình có 2 thành viên, những khách hàng gia đình có 8,9 thành viên chỉ chiếm tỷ trọng rất nhỏ\n",
    "\n",
    "* Sản phẩm tại cửa hàng thu hút nữ giới nhiều hơn nam giới\n",
    "\n",
    "* Khách hàng làm công việc liên quan đến nghệ thuật chi tiêu nhiều hơn tại cửa hàng\n",
    "\n",
    "* Khách hàng có ít kinh nghiệm(<10 năm) mua sắm tại cửa hàng nhiều hơn"
   ]
  },
  {
   "cell_type": "code",
   "execution_count": null,
   "id": "f92c466f",
   "metadata": {},
   "outputs": [],
   "source": []
  }
 ],
 "metadata": {
  "kernelspec": {
   "display_name": "Python 3 (ipykernel)",
   "language": "python",
   "name": "python3"
  },
  "language_info": {
   "codemirror_mode": {
    "name": "ipython",
    "version": 3
   },
   "file_extension": ".py",
   "mimetype": "text/x-python",
   "name": "python",
   "nbconvert_exporter": "python",
   "pygments_lexer": "ipython3",
   "version": "3.9.7"
  }
 },
 "nbformat": 4,
 "nbformat_minor": 5
}
